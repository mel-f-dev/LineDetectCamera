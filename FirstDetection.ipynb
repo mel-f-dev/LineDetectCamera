{
 "cells": [
  {
   "cell_type": "code",
   "execution_count": 1,
   "metadata": {},
   "outputs": [
    {
     "name": "stdout",
     "output_type": "stream",
     "text": [
      "Requirement already satisfied: tensorflow==1.15 in c:\\users\\amelie\\anaconda3\\lib\\site-packages (1.15.0)\n",
      "Requirement already satisfied: tensorboard<1.16.0,>=1.15.0 in c:\\users\\amelie\\anaconda3\\lib\\site-packages (from tensorflow==1.15) (1.15.0)\n",
      "Requirement already satisfied: astor>=0.6.0 in c:\\users\\amelie\\anaconda3\\lib\\site-packages (from tensorflow==1.15) (0.8.1)\n",
      "Requirement already satisfied: grpcio>=1.8.6 in c:\\users\\amelie\\anaconda3\\lib\\site-packages (from tensorflow==1.15) (1.26.0)\n",
      "Requirement already satisfied: wrapt>=1.11.1 in c:\\users\\amelie\\anaconda3\\lib\\site-packages (from tensorflow==1.15) (1.11.2)\n",
      "Requirement already satisfied: keras-preprocessing>=1.0.5 in c:\\users\\amelie\\anaconda3\\lib\\site-packages (from tensorflow==1.15) (1.1.0)\n",
      "Requirement already satisfied: termcolor>=1.1.0 in c:\\users\\amelie\\anaconda3\\lib\\site-packages (from tensorflow==1.15) (1.1.0)\n",
      "Requirement already satisfied: protobuf>=3.6.1 in c:\\users\\amelie\\anaconda3\\lib\\site-packages (from tensorflow==1.15) (3.11.2)\n",
      "Requirement already satisfied: wheel>=0.26 in c:\\users\\amelie\\anaconda3\\lib\\site-packages (from tensorflow==1.15) (0.33.6)\n",
      "Requirement already satisfied: google-pasta>=0.1.6 in c:\\users\\amelie\\anaconda3\\lib\\site-packages (from tensorflow==1.15) (0.1.8)\n",
      "Requirement already satisfied: numpy<2.0,>=1.16.0 in c:\\users\\amelie\\anaconda3\\lib\\site-packages (from tensorflow==1.15) (1.16.5)\n",
      "Requirement already satisfied: absl-py>=0.7.0 in c:\\users\\amelie\\anaconda3\\lib\\site-packages (from tensorflow==1.15) (0.9.0)\n",
      "Requirement already satisfied: gast==0.2.2 in c:\\users\\amelie\\anaconda3\\lib\\site-packages (from tensorflow==1.15) (0.2.2)\n",
      "Requirement already satisfied: keras-applications>=1.0.8 in c:\\users\\amelie\\anaconda3\\lib\\site-packages (from tensorflow==1.15) (1.0.8)\n",
      "Requirement already satisfied: six>=1.10.0 in c:\\users\\amelie\\anaconda3\\lib\\site-packages (from tensorflow==1.15) (1.12.0)\n",
      "Requirement already satisfied: tensorflow-estimator==1.15.1 in c:\\users\\amelie\\anaconda3\\lib\\site-packages (from tensorflow==1.15) (1.15.1)\n",
      "Requirement already satisfied: opt-einsum>=2.3.2 in c:\\users\\amelie\\anaconda3\\lib\\site-packages (from tensorflow==1.15) (3.1.0)\n",
      "Requirement already satisfied: werkzeug>=0.11.15 in c:\\users\\amelie\\anaconda3\\lib\\site-packages (from tensorboard<1.16.0,>=1.15.0->tensorflow==1.15) (0.16.0)\n",
      "Requirement already satisfied: markdown>=2.6.8 in c:\\users\\amelie\\anaconda3\\lib\\site-packages (from tensorboard<1.16.0,>=1.15.0->tensorflow==1.15) (3.1.1)\n",
      "Requirement already satisfied: setuptools>=41.0.0 in c:\\users\\amelie\\anaconda3\\lib\\site-packages (from tensorboard<1.16.0,>=1.15.0->tensorflow==1.15) (41.4.0)\n",
      "Requirement already satisfied: h5py in c:\\users\\amelie\\anaconda3\\lib\\site-packages (from keras-applications>=1.0.8->tensorflow==1.15) (2.9.0)\n",
      "Note: you may need to restart the kernel to use updated packages.\n"
     ]
    }
   ],
   "source": [
    "pip install tensorflow==1.15"
   ]
  },
  {
   "cell_type": "code",
   "execution_count": 2,
   "metadata": {},
   "outputs": [],
   "source": [
    "import tensorflow as tf"
   ]
  },
  {
   "cell_type": "code",
   "execution_count": 3,
   "metadata": {},
   "outputs": [],
   "source": [
    "hello = tf.constant(\"hello, TensorFlow!\")"
   ]
  },
  {
   "cell_type": "code",
   "execution_count": 4,
   "metadata": {},
   "outputs": [],
   "source": [
    "sess = tf.Session()"
   ]
  },
  {
   "cell_type": "code",
   "execution_count": 8,
   "metadata": {},
   "outputs": [
    {
     "name": "stdout",
     "output_type": "stream",
     "text": [
      "b'hello, TensorFlow!'\n"
     ]
    }
   ],
   "source": [
    "print(sess.run(hello))"
   ]
  },
  {
   "cell_type": "code",
   "execution_count": null,
   "metadata": {},
   "outputs": [],
   "source": []
  },
  {
   "cell_type": "code",
   "execution_count": null,
   "metadata": {},
   "outputs": [],
   "source": []
  },
  {
   "cell_type": "code",
   "execution_count": null,
   "metadata": {},
   "outputs": [],
   "source": []
  },
  {
   "cell_type": "code",
   "execution_count": 5,
   "metadata": {},
   "outputs": [
    {
     "name": "stderr",
     "output_type": "stream",
     "text": [
      "Using TensorFlow backend.\n"
     ]
    }
   ],
   "source": [
    "from imageai.Detection import ObjectDetection\n",
    "import os"
   ]
  },
  {
   "cell_type": "code",
   "execution_count": 6,
   "metadata": {},
   "outputs": [],
   "source": [
    "execution_path = os.getcwd()"
   ]
  },
  {
   "cell_type": "code",
   "execution_count": 12,
   "metadata": {},
   "outputs": [
    {
     "name": "stdout",
     "output_type": "stream",
     "text": [
      "tracking <tf.Variable 'Variable_20:0' shape=(9, 4) dtype=float32> anchors\n",
      "tracking <tf.Variable 'Variable_21:0' shape=(9, 4) dtype=float32> anchors\n",
      "tracking <tf.Variable 'Variable_22:0' shape=(9, 4) dtype=float32> anchors\n",
      "tracking <tf.Variable 'Variable_23:0' shape=(9, 4) dtype=float32> anchors\n",
      "tracking <tf.Variable 'Variable_24:0' shape=(9, 4) dtype=float32> anchors\n",
      "person  :  99.97720122337341\n"
     ]
    }
   ],
   "source": [
    "from imageai.Detection import ObjectDetection\n",
    "import os\n",
    "\n",
    "execution_path = os.getcwd()\n",
    "\n",
    "detector = ObjectDetection()\n",
    "detector.setModelTypeAsRetinaNet()\n",
    "detector.setModelPath( os.path.join(execution_path , \"resnet50_coco_best_v2.0.1.h5\"))\n",
    "detector.loadModel()\n",
    "detections = detector.detectObjectsFromImage(input_image=os.path.join(execution_path , \"image.jpg\"), output_image_path=os.path.join(execution_path , \"imagenew.jpg\"))\n",
    "\n",
    "for eachObject in detections:\n",
    "    print(eachObject[\"name\"] , \" : \" , eachObject[\"percentage_probability\"] )"
   ]
  },
  {
   "cell_type": "code",
   "execution_count": 11,
   "metadata": {},
   "outputs": [
    {
     "name": "stdout",
     "output_type": "stream",
     "text": [
      "tracking <tf.Variable 'Variable_15:0' shape=(9, 4) dtype=float32> anchors\n",
      "tracking <tf.Variable 'Variable_16:0' shape=(9, 4) dtype=float32> anchors\n",
      "tracking <tf.Variable 'Variable_17:0' shape=(9, 4) dtype=float32> anchors\n",
      "tracking <tf.Variable 'Variable_18:0' shape=(9, 4) dtype=float32> anchors\n",
      "tracking <tf.Variable 'Variable_19:0' shape=(9, 4) dtype=float32> anchors\n",
      "person  :  97.76432514190674\n",
      "person  :  98.8835334777832\n",
      "person  :  71.91329002380371\n"
     ]
    }
   ],
   "source": [
    "execution_path = os.getcwd()\n",
    "\n",
    "detector = ObjectDetection()\n",
    "detector.setModelTypeAsRetinaNet()\n",
    "detector.setModelPath( os.path.join(execution_path , \"resnet50_coco_best_v2.0.1.h5\"))\n",
    "detector.loadModel()\n",
    "detections = detector.detectObjectsFromImage(input_image=os.path.join(execution_path , \"image1.jpg\"), output_image_path=os.path.join(execution_path , \"imagenew1.jpg\"))\n",
    "\n",
    "for eachObject in detections:\n",
    "    print(eachObject[\"name\"] , \" : \" , eachObject[\"percentage_probability\"] )"
   ]
  },
  {
   "cell_type": "code",
   "execution_count": 15,
   "metadata": {},
   "outputs": [
    {
     "name": "stdout",
     "output_type": "stream",
     "text": [
      "tracking <tf.Variable 'Variable_35:0' shape=(9, 4) dtype=float32> anchors\n",
      "tracking <tf.Variable 'Variable_36:0' shape=(9, 4) dtype=float32> anchors\n",
      "tracking <tf.Variable 'Variable_37:0' shape=(9, 4) dtype=float32> anchors\n",
      "tracking <tf.Variable 'Variable_38:0' shape=(9, 4) dtype=float32> anchors\n",
      "tracking <tf.Variable 'Variable_39:0' shape=(9, 4) dtype=float32> anchors\n",
      "person  :  65.83797335624695\n",
      "person  :  67.44259595870972\n",
      "person  :  65.95343947410583\n",
      "person  :  87.68911361694336\n",
      "person  :  88.1379246711731\n",
      "person  :  85.83849668502808\n"
     ]
    }
   ],
   "source": [
    "execution_path = os.getcwd()\n",
    "\n",
    "detector = ObjectDetection()\n",
    "detector.setModelTypeAsRetinaNet()\n",
    "detector.setModelPath( os.path.join(execution_path , \"resnet50_coco_best_v2.0.1.h5\"))\n",
    "detector.loadModel()\n",
    "detections = detector.detectObjectsFromImage(input_image=os.path.join(execution_path , \"image2.jpeg\"), output_image_path=os.path.join(execution_path , \"imagenew2.jpeg\"))\n",
    "\n",
    "for eachObject in detections:\n",
    "    print(eachObject[\"name\"] , \" : \" , eachObject[\"percentage_probability\"] )"
   ]
  },
  {
   "cell_type": "code",
   "execution_count": null,
   "metadata": {},
   "outputs": [],
   "source": []
  }
 ],
 "metadata": {
  "kernelspec": {
   "display_name": "Python 3",
   "language": "python",
   "name": "python3"
  },
  "language_info": {
   "codemirror_mode": {
    "name": "ipython",
    "version": 3
   },
   "file_extension": ".py",
   "mimetype": "text/x-python",
   "name": "python",
   "nbconvert_exporter": "python",
   "pygments_lexer": "ipython3",
   "version": "3.7.4"
  },
  "toc": {
   "base_numbering": 1,
   "nav_menu": {},
   "number_sections": true,
   "sideBar": true,
   "skip_h1_title": false,
   "title_cell": "Table of Contents",
   "title_sidebar": "Contents",
   "toc_cell": false,
   "toc_position": {},
   "toc_section_display": true,
   "toc_window_display": false
  },
  "varInspector": {
   "cols": {
    "lenName": 16,
    "lenType": 16,
    "lenVar": 40
   },
   "kernels_config": {
    "python": {
     "delete_cmd_postfix": "",
     "delete_cmd_prefix": "del ",
     "library": "var_list.py",
     "varRefreshCmd": "print(var_dic_list())"
    },
    "r": {
     "delete_cmd_postfix": ") ",
     "delete_cmd_prefix": "rm(",
     "library": "var_list.r",
     "varRefreshCmd": "cat(var_dic_list()) "
    }
   },
   "types_to_exclude": [
    "module",
    "function",
    "builtin_function_or_method",
    "instance",
    "_Feature"
   ],
   "window_display": false
  }
 },
 "nbformat": 4,
 "nbformat_minor": 2
}
